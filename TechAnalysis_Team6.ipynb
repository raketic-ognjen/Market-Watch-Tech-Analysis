{
  "nbformat": 4,
  "nbformat_minor": 0,
  "metadata": {
    "colab": {
      "provenance": [],
      "collapsed_sections": [
        "_kQgH7G7wGm0",
        "n2znlXabpOc7",
        "OA9Y4bIZswEj",
        "1V5nvog3BUz6",
        "VPTs0Mc5BcTH",
        "2VyqUykGBzmN",
        "1HAzsW8gB57v",
        "5RtlLD-BCGP8",
        "RQwhwtyHCRBO",
        "yaREJ62OCfAS",
        "Qzlw620cC_DW",
        "7BoIdrSgDbAv",
        "FqxMLjxqERAW",
        "N9Pg4-jsFE3H",
        "i9t75bf5FWgW",
        "fYbe9BTpF67K",
        "825gqq87GonZ",
        "hrYBrVd3HsM6",
        "15LVMHOOICY5"
      ],
      "authorship_tag": "ABX9TyMoFfanexC01v/YqbV4BroY",
      "include_colab_link": true
    },
    "kernelspec": {
      "name": "python3",
      "display_name": "Python 3"
    },
    "language_info": {
      "name": "python"
    }
  },
  "cells": [
    {
      "cell_type": "markdown",
      "metadata": {
        "id": "view-in-github",
        "colab_type": "text"
      },
      "source": [
        "<a href=\"https://colab.research.google.com/github/raketic-ognjen/Market-Watch-Tech-Analysis/blob/main/TechAnalysis_Team6.ipynb\" target=\"_parent\"><img src=\"https://colab.research.google.com/assets/colab-badge.svg\" alt=\"Open In Colab\"/></a>"
      ]
    },
    {
      "cell_type": "markdown",
      "source": [
        "# <font color = \"DeepSkyBlue\"><center>**Market Watch - Technical Analysis**</center></font>"
      ],
      "metadata": {
        "id": "5_P8WxASoV9P"
      }
    },
    {
      "cell_type": "markdown",
      "source": [
        "## <center>**Core Idea Explanation**</center>"
      ],
      "metadata": {
        "id": "eitz5RiYo7Wv"
      }
    },
    {
      "cell_type": "markdown",
      "source": [
        "### Adding Packages - Libraries:\n",
        "1. Pandas(pandas data reader)\n",
        "2. yfinance\n",
        "3. NumPy(linAlg)\n",
        "4. SciPy(optimize and stats)\n",
        "5. Plotly(graph objects and subplots)\n",
        "6. Statsmodels.api\n",
        "7. DateTime"
      ],
      "metadata": {
        "id": "_kQgH7G7wGm0"
      }
    },
    {
      "cell_type": "code",
      "source": [
        "import pandas as pd\n",
        "import yfinance as yf\n",
        "import numpy as np\n",
        "import numpy.linalg as LA\n",
        "import scipy as sp\n",
        "import scipy.optimize as sco\n",
        "import scipy.stats as st\n",
        "import plotly.graph_objects as go\n",
        "from plotly.subplots import make_subplots\n",
        "import statsmodels.api as sm\n",
        "import pandas_datareader as pdr\n",
        "import datetime as dt"
      ],
      "metadata": {
        "id": "LeaJ0Ex3xs1L"
      },
      "execution_count": 1,
      "outputs": []
    },
    {
      "cell_type": "markdown",
      "source": [
        "### <center>*First step*</center>"
      ],
      "metadata": {
        "id": "n2znlXabpOc7"
      }
    },
    {
      "cell_type": "markdown",
      "source": [
        "> First of all, I want to appologise to my team and to You, professor, because I did not show up on the Market Watch Game due to my **TCL knee injury.** Because of that I will do next things:\n",
        "1.   **Portfolio Optimization**\n",
        "2.   **Efficient Frontiers**\n",
        "3.   **CAPM Model**\n",
        "4.   **Sharpe's Ratio**\n",
        "5.   **Testing Portfolio Performances**\n",
        "6.   **Robustness portfolio**\n",
        "7.   **Black-Litterman model**\n",
        "8.   **Comparing with Non-Technical Result of my group**\n",
        "\n"
      ],
      "metadata": {
        "id": "llxthAc3pg1Z"
      }
    },
    {
      "cell_type": "markdown",
      "source": [
        "### <center>*Second Step*</center>"
      ],
      "metadata": {
        "id": "OA9Y4bIZswEj"
      }
    },
    {
      "cell_type": "markdown",
      "source": [
        "According to my group starting portfolio, we use 6 companies:\n",
        "1. Starbucks - SBUX - 9 stocks 0.13 weight\n",
        "2. Coca Cola - KO - 15  stocks 0.22 weight\n",
        "3. Microsoft - MSFT 3 stocks 0.04 weight\n",
        "4. Pfizer - PFE 25 stocks 0.37 weight\n",
        "5. Nike - NKE 8 stocks 0.12 weight\n",
        "6. Exxon Mobil - XOM 8 stocks 0.12 weight\n",
        "\n",
        "Later Non Technical portfolio  had 83 trades and a lot buying-selling companies, so for this analysis I will use only this 6 stocks\n",
        "\n",
        "According to TA starting portfolio, we use 6 companies:\n",
        "1. Astra Zeneca - AZN - 25 stocks 0.37\n",
        "2. Nvidia - NVD - 3 stocks 0.04\n",
        "3. Under Armour - UA - 8 stocks 0.12\n",
        "4. Rivian - RIVN - 8 stocks 0.12\n",
        "5. Carnival Corporation - CCL - 9 Stocks 0.13\n",
        "6. McDonalds - MCD - 15 stocks 0.22"
      ],
      "metadata": {
        "id": "Lp8WU5XSuJeY"
      }
    },
    {
      "cell_type": "markdown",
      "source": [
        "### NTA and TA portfolio"
      ],
      "metadata": {
        "id": "1V5nvog3BUz6"
      }
    },
    {
      "cell_type": "code",
      "execution_count": 2,
      "metadata": {
        "id": "nCkK_RexoRAU"
      },
      "outputs": [],
      "source": [
        "#Non Technical Analysis Portfolio start\n",
        "ntaportf= ['SBUX', 'KO', 'MSFT','PFE', 'NKE', 'XOM']\n",
        "\n",
        "#Technical Analysis portfolio start\n",
        "taportf = ['AZN', 'NVDA', 'UA', 'RIVN', 'CCL', 'MCD']"
      ]
    },
    {
      "cell_type": "markdown",
      "source": [
        "### Prices for NTA portfolio"
      ],
      "metadata": {
        "id": "VPTs0Mc5BcTH"
      }
    },
    {
      "cell_type": "code",
      "source": [
        "#Prices for non Technical Analysis portfolio from 21th April to 18th May\n",
        "ntaprices= yf.download(ntaportf, start='2023-04-21',end='2023-05-18')['Adj Close']\n",
        "ntaprices.head()"
      ],
      "metadata": {
        "colab": {
          "base_uri": "https://localhost:8080/",
          "height": 255
        },
        "id": "kbLbJgh71qUf",
        "outputId": "29bf86ca-bdee-4cd0-bf1e-e6da5c1cabce"
      },
      "execution_count": 19,
      "outputs": [
        {
          "output_type": "stream",
          "name": "stdout",
          "text": [
            "[*********************100%%**********************]  6 of 6 completed\n"
          ]
        },
        {
          "output_type": "execute_result",
          "data": {
            "text/plain": [
              "                   KO        MSFT         NKE        PFE        SBUX  \\\n",
              "Date                                                                   \n",
              "2023-04-21  63.565891  284.534271  124.699898  39.341244  107.082947   \n",
              "2023-04-24  63.466644  280.561371  126.249580  39.047722  108.171684   \n",
              "2023-04-25  63.367397  274.238647  123.835655  38.480259  108.221169   \n",
              "2023-04-26  63.069668  294.103027  123.021072  37.795383  110.329376   \n",
              "2023-04-27  63.198685  303.522430  124.868774  37.903004  111.596275   \n",
              "\n",
              "                   XOM  \n",
              "Date                    \n",
              "2023-04-21  114.076859  \n",
              "2023-04-24  116.230362  \n",
              "2023-04-25  114.578354  \n",
              "2023-04-26  113.526192  \n",
              "2023-04-27  114.883194  "
            ],
            "text/html": [
              "\n",
              "  <div id=\"df-44146778-69a5-4a4a-9d31-9a3cefd4ff16\" class=\"colab-df-container\">\n",
              "    <div>\n",
              "<style scoped>\n",
              "    .dataframe tbody tr th:only-of-type {\n",
              "        vertical-align: middle;\n",
              "    }\n",
              "\n",
              "    .dataframe tbody tr th {\n",
              "        vertical-align: top;\n",
              "    }\n",
              "\n",
              "    .dataframe thead th {\n",
              "        text-align: right;\n",
              "    }\n",
              "</style>\n",
              "<table border=\"1\" class=\"dataframe\">\n",
              "  <thead>\n",
              "    <tr style=\"text-align: right;\">\n",
              "      <th></th>\n",
              "      <th>KO</th>\n",
              "      <th>MSFT</th>\n",
              "      <th>NKE</th>\n",
              "      <th>PFE</th>\n",
              "      <th>SBUX</th>\n",
              "      <th>XOM</th>\n",
              "    </tr>\n",
              "    <tr>\n",
              "      <th>Date</th>\n",
              "      <th></th>\n",
              "      <th></th>\n",
              "      <th></th>\n",
              "      <th></th>\n",
              "      <th></th>\n",
              "      <th></th>\n",
              "    </tr>\n",
              "  </thead>\n",
              "  <tbody>\n",
              "    <tr>\n",
              "      <th>2023-04-21</th>\n",
              "      <td>63.565891</td>\n",
              "      <td>284.534271</td>\n",
              "      <td>124.699898</td>\n",
              "      <td>39.341244</td>\n",
              "      <td>107.082947</td>\n",
              "      <td>114.076859</td>\n",
              "    </tr>\n",
              "    <tr>\n",
              "      <th>2023-04-24</th>\n",
              "      <td>63.466644</td>\n",
              "      <td>280.561371</td>\n",
              "      <td>126.249580</td>\n",
              "      <td>39.047722</td>\n",
              "      <td>108.171684</td>\n",
              "      <td>116.230362</td>\n",
              "    </tr>\n",
              "    <tr>\n",
              "      <th>2023-04-25</th>\n",
              "      <td>63.367397</td>\n",
              "      <td>274.238647</td>\n",
              "      <td>123.835655</td>\n",
              "      <td>38.480259</td>\n",
              "      <td>108.221169</td>\n",
              "      <td>114.578354</td>\n",
              "    </tr>\n",
              "    <tr>\n",
              "      <th>2023-04-26</th>\n",
              "      <td>63.069668</td>\n",
              "      <td>294.103027</td>\n",
              "      <td>123.021072</td>\n",
              "      <td>37.795383</td>\n",
              "      <td>110.329376</td>\n",
              "      <td>113.526192</td>\n",
              "    </tr>\n",
              "    <tr>\n",
              "      <th>2023-04-27</th>\n",
              "      <td>63.198685</td>\n",
              "      <td>303.522430</td>\n",
              "      <td>124.868774</td>\n",
              "      <td>37.903004</td>\n",
              "      <td>111.596275</td>\n",
              "      <td>114.883194</td>\n",
              "    </tr>\n",
              "  </tbody>\n",
              "</table>\n",
              "</div>\n",
              "    <div class=\"colab-df-buttons\">\n",
              "\n",
              "  <div class=\"colab-df-container\">\n",
              "    <button class=\"colab-df-convert\" onclick=\"convertToInteractive('df-44146778-69a5-4a4a-9d31-9a3cefd4ff16')\"\n",
              "            title=\"Convert this dataframe to an interactive table.\"\n",
              "            style=\"display:none;\">\n",
              "\n",
              "  <svg xmlns=\"http://www.w3.org/2000/svg\" height=\"24px\" viewBox=\"0 -960 960 960\">\n",
              "    <path d=\"M120-120v-720h720v720H120Zm60-500h600v-160H180v160Zm220 220h160v-160H400v160Zm0 220h160v-160H400v160ZM180-400h160v-160H180v160Zm440 0h160v-160H620v160ZM180-180h160v-160H180v160Zm440 0h160v-160H620v160Z\"/>\n",
              "  </svg>\n",
              "    </button>\n",
              "\n",
              "  <style>\n",
              "    .colab-df-container {\n",
              "      display:flex;\n",
              "      gap: 12px;\n",
              "    }\n",
              "\n",
              "    .colab-df-convert {\n",
              "      background-color: #E8F0FE;\n",
              "      border: none;\n",
              "      border-radius: 50%;\n",
              "      cursor: pointer;\n",
              "      display: none;\n",
              "      fill: #1967D2;\n",
              "      height: 32px;\n",
              "      padding: 0 0 0 0;\n",
              "      width: 32px;\n",
              "    }\n",
              "\n",
              "    .colab-df-convert:hover {\n",
              "      background-color: #E2EBFA;\n",
              "      box-shadow: 0px 1px 2px rgba(60, 64, 67, 0.3), 0px 1px 3px 1px rgba(60, 64, 67, 0.15);\n",
              "      fill: #174EA6;\n",
              "    }\n",
              "\n",
              "    .colab-df-buttons div {\n",
              "      margin-bottom: 4px;\n",
              "    }\n",
              "\n",
              "    [theme=dark] .colab-df-convert {\n",
              "      background-color: #3B4455;\n",
              "      fill: #D2E3FC;\n",
              "    }\n",
              "\n",
              "    [theme=dark] .colab-df-convert:hover {\n",
              "      background-color: #434B5C;\n",
              "      box-shadow: 0px 1px 3px 1px rgba(0, 0, 0, 0.15);\n",
              "      filter: drop-shadow(0px 1px 2px rgba(0, 0, 0, 0.3));\n",
              "      fill: #FFFFFF;\n",
              "    }\n",
              "  </style>\n",
              "\n",
              "    <script>\n",
              "      const buttonEl =\n",
              "        document.querySelector('#df-44146778-69a5-4a4a-9d31-9a3cefd4ff16 button.colab-df-convert');\n",
              "      buttonEl.style.display =\n",
              "        google.colab.kernel.accessAllowed ? 'block' : 'none';\n",
              "\n",
              "      async function convertToInteractive(key) {\n",
              "        const element = document.querySelector('#df-44146778-69a5-4a4a-9d31-9a3cefd4ff16');\n",
              "        const dataTable =\n",
              "          await google.colab.kernel.invokeFunction('convertToInteractive',\n",
              "                                                    [key], {});\n",
              "        if (!dataTable) return;\n",
              "\n",
              "        const docLinkHtml = 'Like what you see? Visit the ' +\n",
              "          '<a target=\"_blank\" href=https://colab.research.google.com/notebooks/data_table.ipynb>data table notebook</a>'\n",
              "          + ' to learn more about interactive tables.';\n",
              "        element.innerHTML = '';\n",
              "        dataTable['output_type'] = 'display_data';\n",
              "        await google.colab.output.renderOutput(dataTable, element);\n",
              "        const docLink = document.createElement('div');\n",
              "        docLink.innerHTML = docLinkHtml;\n",
              "        element.appendChild(docLink);\n",
              "      }\n",
              "    </script>\n",
              "  </div>\n",
              "\n",
              "\n",
              "<div id=\"df-b0612aa9-3c02-48ab-adc4-8889e9c19a81\">\n",
              "  <button class=\"colab-df-quickchart\" onclick=\"quickchart('df-b0612aa9-3c02-48ab-adc4-8889e9c19a81')\"\n",
              "            title=\"Suggest charts.\"\n",
              "            style=\"display:none;\">\n",
              "\n",
              "<svg xmlns=\"http://www.w3.org/2000/svg\" height=\"24px\"viewBox=\"0 0 24 24\"\n",
              "     width=\"24px\">\n",
              "    <g>\n",
              "        <path d=\"M19 3H5c-1.1 0-2 .9-2 2v14c0 1.1.9 2 2 2h14c1.1 0 2-.9 2-2V5c0-1.1-.9-2-2-2zM9 17H7v-7h2v7zm4 0h-2V7h2v10zm4 0h-2v-4h2v4z\"/>\n",
              "    </g>\n",
              "</svg>\n",
              "  </button>\n",
              "\n",
              "<style>\n",
              "  .colab-df-quickchart {\n",
              "      --bg-color: #E8F0FE;\n",
              "      --fill-color: #1967D2;\n",
              "      --hover-bg-color: #E2EBFA;\n",
              "      --hover-fill-color: #174EA6;\n",
              "      --disabled-fill-color: #AAA;\n",
              "      --disabled-bg-color: #DDD;\n",
              "  }\n",
              "\n",
              "  [theme=dark] .colab-df-quickchart {\n",
              "      --bg-color: #3B4455;\n",
              "      --fill-color: #D2E3FC;\n",
              "      --hover-bg-color: #434B5C;\n",
              "      --hover-fill-color: #FFFFFF;\n",
              "      --disabled-bg-color: #3B4455;\n",
              "      --disabled-fill-color: #666;\n",
              "  }\n",
              "\n",
              "  .colab-df-quickchart {\n",
              "    background-color: var(--bg-color);\n",
              "    border: none;\n",
              "    border-radius: 50%;\n",
              "    cursor: pointer;\n",
              "    display: none;\n",
              "    fill: var(--fill-color);\n",
              "    height: 32px;\n",
              "    padding: 0;\n",
              "    width: 32px;\n",
              "  }\n",
              "\n",
              "  .colab-df-quickchart:hover {\n",
              "    background-color: var(--hover-bg-color);\n",
              "    box-shadow: 0 1px 2px rgba(60, 64, 67, 0.3), 0 1px 3px 1px rgba(60, 64, 67, 0.15);\n",
              "    fill: var(--button-hover-fill-color);\n",
              "  }\n",
              "\n",
              "  .colab-df-quickchart-complete:disabled,\n",
              "  .colab-df-quickchart-complete:disabled:hover {\n",
              "    background-color: var(--disabled-bg-color);\n",
              "    fill: var(--disabled-fill-color);\n",
              "    box-shadow: none;\n",
              "  }\n",
              "\n",
              "  .colab-df-spinner {\n",
              "    border: 2px solid var(--fill-color);\n",
              "    border-color: transparent;\n",
              "    border-bottom-color: var(--fill-color);\n",
              "    animation:\n",
              "      spin 1s steps(1) infinite;\n",
              "  }\n",
              "\n",
              "  @keyframes spin {\n",
              "    0% {\n",
              "      border-color: transparent;\n",
              "      border-bottom-color: var(--fill-color);\n",
              "      border-left-color: var(--fill-color);\n",
              "    }\n",
              "    20% {\n",
              "      border-color: transparent;\n",
              "      border-left-color: var(--fill-color);\n",
              "      border-top-color: var(--fill-color);\n",
              "    }\n",
              "    30% {\n",
              "      border-color: transparent;\n",
              "      border-left-color: var(--fill-color);\n",
              "      border-top-color: var(--fill-color);\n",
              "      border-right-color: var(--fill-color);\n",
              "    }\n",
              "    40% {\n",
              "      border-color: transparent;\n",
              "      border-right-color: var(--fill-color);\n",
              "      border-top-color: var(--fill-color);\n",
              "    }\n",
              "    60% {\n",
              "      border-color: transparent;\n",
              "      border-right-color: var(--fill-color);\n",
              "    }\n",
              "    80% {\n",
              "      border-color: transparent;\n",
              "      border-right-color: var(--fill-color);\n",
              "      border-bottom-color: var(--fill-color);\n",
              "    }\n",
              "    90% {\n",
              "      border-color: transparent;\n",
              "      border-bottom-color: var(--fill-color);\n",
              "    }\n",
              "  }\n",
              "</style>\n",
              "\n",
              "  <script>\n",
              "    async function quickchart(key) {\n",
              "      const quickchartButtonEl =\n",
              "        document.querySelector('#' + key + ' button');\n",
              "      quickchartButtonEl.disabled = true;  // To prevent multiple clicks.\n",
              "      quickchartButtonEl.classList.add('colab-df-spinner');\n",
              "      try {\n",
              "        const charts = await google.colab.kernel.invokeFunction(\n",
              "            'suggestCharts', [key], {});\n",
              "      } catch (error) {\n",
              "        console.error('Error during call to suggestCharts:', error);\n",
              "      }\n",
              "      quickchartButtonEl.classList.remove('colab-df-spinner');\n",
              "      quickchartButtonEl.classList.add('colab-df-quickchart-complete');\n",
              "    }\n",
              "    (() => {\n",
              "      let quickchartButtonEl =\n",
              "        document.querySelector('#df-b0612aa9-3c02-48ab-adc4-8889e9c19a81 button');\n",
              "      quickchartButtonEl.style.display =\n",
              "        google.colab.kernel.accessAllowed ? 'block' : 'none';\n",
              "    })();\n",
              "  </script>\n",
              "</div>\n",
              "    </div>\n",
              "  </div>\n"
            ]
          },
          "metadata": {},
          "execution_count": 19
        }
      ]
    },
    {
      "cell_type": "markdown",
      "source": [
        "### Prices for TA portfolio"
      ],
      "metadata": {
        "id": "2VyqUykGBzmN"
      }
    },
    {
      "cell_type": "code",
      "source": [
        "#Prices for Technical Analysis portfolio form 21th April to 18th May\n",
        "taprices = yf.download(taportf,start='2023-04-21', end='2023-05-18')['Adj Close']\n",
        "taprices.head()"
      ],
      "metadata": {
        "colab": {
          "base_uri": "https://localhost:8080/",
          "height": 255
        },
        "id": "n0H8iyD42UUX",
        "outputId": "2d2977c3-761f-45ce-d19c-7b98f697124a"
      },
      "execution_count": 4,
      "outputs": [
        {
          "output_type": "stream",
          "name": "stdout",
          "text": [
            "[*********************100%%**********************]  6 of 6 completed\n"
          ]
        },
        {
          "output_type": "execute_result",
          "data": {
            "text/plain": [
              "                  AZN   CCL         MCD        NVDA   RIVN    UA\n",
              "Date                                                            \n",
              "2023-04-21  75.106819  9.38  288.964294  271.139618  12.25  8.02\n",
              "2023-04-24  75.315445  9.28  290.092224  270.369751  12.36  8.09\n",
              "2023-04-25  75.166435  8.96  288.420166  262.361237  12.00  7.80\n",
              "2023-04-26  73.169540  8.76  286.688690  269.509888  12.04  7.87\n",
              "2023-04-27  73.298691  8.90  291.596100  272.209412  12.67  7.95"
            ],
            "text/html": [
              "\n",
              "  <div id=\"df-3131aee0-45f3-4fd4-a532-eaf5752a6ddd\" class=\"colab-df-container\">\n",
              "    <div>\n",
              "<style scoped>\n",
              "    .dataframe tbody tr th:only-of-type {\n",
              "        vertical-align: middle;\n",
              "    }\n",
              "\n",
              "    .dataframe tbody tr th {\n",
              "        vertical-align: top;\n",
              "    }\n",
              "\n",
              "    .dataframe thead th {\n",
              "        text-align: right;\n",
              "    }\n",
              "</style>\n",
              "<table border=\"1\" class=\"dataframe\">\n",
              "  <thead>\n",
              "    <tr style=\"text-align: right;\">\n",
              "      <th></th>\n",
              "      <th>AZN</th>\n",
              "      <th>CCL</th>\n",
              "      <th>MCD</th>\n",
              "      <th>NVDA</th>\n",
              "      <th>RIVN</th>\n",
              "      <th>UA</th>\n",
              "    </tr>\n",
              "    <tr>\n",
              "      <th>Date</th>\n",
              "      <th></th>\n",
              "      <th></th>\n",
              "      <th></th>\n",
              "      <th></th>\n",
              "      <th></th>\n",
              "      <th></th>\n",
              "    </tr>\n",
              "  </thead>\n",
              "  <tbody>\n",
              "    <tr>\n",
              "      <th>2023-04-21</th>\n",
              "      <td>75.106819</td>\n",
              "      <td>9.38</td>\n",
              "      <td>288.964294</td>\n",
              "      <td>271.139618</td>\n",
              "      <td>12.25</td>\n",
              "      <td>8.02</td>\n",
              "    </tr>\n",
              "    <tr>\n",
              "      <th>2023-04-24</th>\n",
              "      <td>75.315445</td>\n",
              "      <td>9.28</td>\n",
              "      <td>290.092224</td>\n",
              "      <td>270.369751</td>\n",
              "      <td>12.36</td>\n",
              "      <td>8.09</td>\n",
              "    </tr>\n",
              "    <tr>\n",
              "      <th>2023-04-25</th>\n",
              "      <td>75.166435</td>\n",
              "      <td>8.96</td>\n",
              "      <td>288.420166</td>\n",
              "      <td>262.361237</td>\n",
              "      <td>12.00</td>\n",
              "      <td>7.80</td>\n",
              "    </tr>\n",
              "    <tr>\n",
              "      <th>2023-04-26</th>\n",
              "      <td>73.169540</td>\n",
              "      <td>8.76</td>\n",
              "      <td>286.688690</td>\n",
              "      <td>269.509888</td>\n",
              "      <td>12.04</td>\n",
              "      <td>7.87</td>\n",
              "    </tr>\n",
              "    <tr>\n",
              "      <th>2023-04-27</th>\n",
              "      <td>73.298691</td>\n",
              "      <td>8.90</td>\n",
              "      <td>291.596100</td>\n",
              "      <td>272.209412</td>\n",
              "      <td>12.67</td>\n",
              "      <td>7.95</td>\n",
              "    </tr>\n",
              "  </tbody>\n",
              "</table>\n",
              "</div>\n",
              "    <div class=\"colab-df-buttons\">\n",
              "\n",
              "  <div class=\"colab-df-container\">\n",
              "    <button class=\"colab-df-convert\" onclick=\"convertToInteractive('df-3131aee0-45f3-4fd4-a532-eaf5752a6ddd')\"\n",
              "            title=\"Convert this dataframe to an interactive table.\"\n",
              "            style=\"display:none;\">\n",
              "\n",
              "  <svg xmlns=\"http://www.w3.org/2000/svg\" height=\"24px\" viewBox=\"0 -960 960 960\">\n",
              "    <path d=\"M120-120v-720h720v720H120Zm60-500h600v-160H180v160Zm220 220h160v-160H400v160Zm0 220h160v-160H400v160ZM180-400h160v-160H180v160Zm440 0h160v-160H620v160ZM180-180h160v-160H180v160Zm440 0h160v-160H620v160Z\"/>\n",
              "  </svg>\n",
              "    </button>\n",
              "\n",
              "  <style>\n",
              "    .colab-df-container {\n",
              "      display:flex;\n",
              "      gap: 12px;\n",
              "    }\n",
              "\n",
              "    .colab-df-convert {\n",
              "      background-color: #E8F0FE;\n",
              "      border: none;\n",
              "      border-radius: 50%;\n",
              "      cursor: pointer;\n",
              "      display: none;\n",
              "      fill: #1967D2;\n",
              "      height: 32px;\n",
              "      padding: 0 0 0 0;\n",
              "      width: 32px;\n",
              "    }\n",
              "\n",
              "    .colab-df-convert:hover {\n",
              "      background-color: #E2EBFA;\n",
              "      box-shadow: 0px 1px 2px rgba(60, 64, 67, 0.3), 0px 1px 3px 1px rgba(60, 64, 67, 0.15);\n",
              "      fill: #174EA6;\n",
              "    }\n",
              "\n",
              "    .colab-df-buttons div {\n",
              "      margin-bottom: 4px;\n",
              "    }\n",
              "\n",
              "    [theme=dark] .colab-df-convert {\n",
              "      background-color: #3B4455;\n",
              "      fill: #D2E3FC;\n",
              "    }\n",
              "\n",
              "    [theme=dark] .colab-df-convert:hover {\n",
              "      background-color: #434B5C;\n",
              "      box-shadow: 0px 1px 3px 1px rgba(0, 0, 0, 0.15);\n",
              "      filter: drop-shadow(0px 1px 2px rgba(0, 0, 0, 0.3));\n",
              "      fill: #FFFFFF;\n",
              "    }\n",
              "  </style>\n",
              "\n",
              "    <script>\n",
              "      const buttonEl =\n",
              "        document.querySelector('#df-3131aee0-45f3-4fd4-a532-eaf5752a6ddd button.colab-df-convert');\n",
              "      buttonEl.style.display =\n",
              "        google.colab.kernel.accessAllowed ? 'block' : 'none';\n",
              "\n",
              "      async function convertToInteractive(key) {\n",
              "        const element = document.querySelector('#df-3131aee0-45f3-4fd4-a532-eaf5752a6ddd');\n",
              "        const dataTable =\n",
              "          await google.colab.kernel.invokeFunction('convertToInteractive',\n",
              "                                                    [key], {});\n",
              "        if (!dataTable) return;\n",
              "\n",
              "        const docLinkHtml = 'Like what you see? Visit the ' +\n",
              "          '<a target=\"_blank\" href=https://colab.research.google.com/notebooks/data_table.ipynb>data table notebook</a>'\n",
              "          + ' to learn more about interactive tables.';\n",
              "        element.innerHTML = '';\n",
              "        dataTable['output_type'] = 'display_data';\n",
              "        await google.colab.output.renderOutput(dataTable, element);\n",
              "        const docLink = document.createElement('div');\n",
              "        docLink.innerHTML = docLinkHtml;\n",
              "        element.appendChild(docLink);\n",
              "      }\n",
              "    </script>\n",
              "  </div>\n",
              "\n",
              "\n",
              "<div id=\"df-c8a19768-d8fb-437c-8454-99851376e128\">\n",
              "  <button class=\"colab-df-quickchart\" onclick=\"quickchart('df-c8a19768-d8fb-437c-8454-99851376e128')\"\n",
              "            title=\"Suggest charts.\"\n",
              "            style=\"display:none;\">\n",
              "\n",
              "<svg xmlns=\"http://www.w3.org/2000/svg\" height=\"24px\"viewBox=\"0 0 24 24\"\n",
              "     width=\"24px\">\n",
              "    <g>\n",
              "        <path d=\"M19 3H5c-1.1 0-2 .9-2 2v14c0 1.1.9 2 2 2h14c1.1 0 2-.9 2-2V5c0-1.1-.9-2-2-2zM9 17H7v-7h2v7zm4 0h-2V7h2v10zm4 0h-2v-4h2v4z\"/>\n",
              "    </g>\n",
              "</svg>\n",
              "  </button>\n",
              "\n",
              "<style>\n",
              "  .colab-df-quickchart {\n",
              "      --bg-color: #E8F0FE;\n",
              "      --fill-color: #1967D2;\n",
              "      --hover-bg-color: #E2EBFA;\n",
              "      --hover-fill-color: #174EA6;\n",
              "      --disabled-fill-color: #AAA;\n",
              "      --disabled-bg-color: #DDD;\n",
              "  }\n",
              "\n",
              "  [theme=dark] .colab-df-quickchart {\n",
              "      --bg-color: #3B4455;\n",
              "      --fill-color: #D2E3FC;\n",
              "      --hover-bg-color: #434B5C;\n",
              "      --hover-fill-color: #FFFFFF;\n",
              "      --disabled-bg-color: #3B4455;\n",
              "      --disabled-fill-color: #666;\n",
              "  }\n",
              "\n",
              "  .colab-df-quickchart {\n",
              "    background-color: var(--bg-color);\n",
              "    border: none;\n",
              "    border-radius: 50%;\n",
              "    cursor: pointer;\n",
              "    display: none;\n",
              "    fill: var(--fill-color);\n",
              "    height: 32px;\n",
              "    padding: 0;\n",
              "    width: 32px;\n",
              "  }\n",
              "\n",
              "  .colab-df-quickchart:hover {\n",
              "    background-color: var(--hover-bg-color);\n",
              "    box-shadow: 0 1px 2px rgba(60, 64, 67, 0.3), 0 1px 3px 1px rgba(60, 64, 67, 0.15);\n",
              "    fill: var(--button-hover-fill-color);\n",
              "  }\n",
              "\n",
              "  .colab-df-quickchart-complete:disabled,\n",
              "  .colab-df-quickchart-complete:disabled:hover {\n",
              "    background-color: var(--disabled-bg-color);\n",
              "    fill: var(--disabled-fill-color);\n",
              "    box-shadow: none;\n",
              "  }\n",
              "\n",
              "  .colab-df-spinner {\n",
              "    border: 2px solid var(--fill-color);\n",
              "    border-color: transparent;\n",
              "    border-bottom-color: var(--fill-color);\n",
              "    animation:\n",
              "      spin 1s steps(1) infinite;\n",
              "  }\n",
              "\n",
              "  @keyframes spin {\n",
              "    0% {\n",
              "      border-color: transparent;\n",
              "      border-bottom-color: var(--fill-color);\n",
              "      border-left-color: var(--fill-color);\n",
              "    }\n",
              "    20% {\n",
              "      border-color: transparent;\n",
              "      border-left-color: var(--fill-color);\n",
              "      border-top-color: var(--fill-color);\n",
              "    }\n",
              "    30% {\n",
              "      border-color: transparent;\n",
              "      border-left-color: var(--fill-color);\n",
              "      border-top-color: var(--fill-color);\n",
              "      border-right-color: var(--fill-color);\n",
              "    }\n",
              "    40% {\n",
              "      border-color: transparent;\n",
              "      border-right-color: var(--fill-color);\n",
              "      border-top-color: var(--fill-color);\n",
              "    }\n",
              "    60% {\n",
              "      border-color: transparent;\n",
              "      border-right-color: var(--fill-color);\n",
              "    }\n",
              "    80% {\n",
              "      border-color: transparent;\n",
              "      border-right-color: var(--fill-color);\n",
              "      border-bottom-color: var(--fill-color);\n",
              "    }\n",
              "    90% {\n",
              "      border-color: transparent;\n",
              "      border-bottom-color: var(--fill-color);\n",
              "    }\n",
              "  }\n",
              "</style>\n",
              "\n",
              "  <script>\n",
              "    async function quickchart(key) {\n",
              "      const quickchartButtonEl =\n",
              "        document.querySelector('#' + key + ' button');\n",
              "      quickchartButtonEl.disabled = true;  // To prevent multiple clicks.\n",
              "      quickchartButtonEl.classList.add('colab-df-spinner');\n",
              "      try {\n",
              "        const charts = await google.colab.kernel.invokeFunction(\n",
              "            'suggestCharts', [key], {});\n",
              "      } catch (error) {\n",
              "        console.error('Error during call to suggestCharts:', error);\n",
              "      }\n",
              "      quickchartButtonEl.classList.remove('colab-df-spinner');\n",
              "      quickchartButtonEl.classList.add('colab-df-quickchart-complete');\n",
              "    }\n",
              "    (() => {\n",
              "      let quickchartButtonEl =\n",
              "        document.querySelector('#df-c8a19768-d8fb-437c-8454-99851376e128 button');\n",
              "      quickchartButtonEl.style.display =\n",
              "        google.colab.kernel.accessAllowed ? 'block' : 'none';\n",
              "    })();\n",
              "  </script>\n",
              "</div>\n",
              "    </div>\n",
              "  </div>\n"
            ]
          },
          "metadata": {},
          "execution_count": 4
        }
      ]
    },
    {
      "cell_type": "markdown",
      "source": [
        "### Returns and .prod() method for NTA portfolio"
      ],
      "metadata": {
        "id": "1HAzsW8gB57v"
      }
    },
    {
      "cell_type": "code",
      "source": [
        "#Returns of ntaportf\n",
        "rets1 = ntaprices.pct_change().dropna()\n",
        "rets1.head()"
      ],
      "metadata": {
        "colab": {
          "base_uri": "https://localhost:8080/",
          "height": 238
        },
        "id": "jnaW78Aq4RvB",
        "outputId": "b4f845b4-54f8-4e9e-b8f8-b764f5e67554"
      },
      "execution_count": 12,
      "outputs": [
        {
          "output_type": "execute_result",
          "data": {
            "text/plain": [
              "                  KO      MSFT       NKE       PFE      SBUX       XOM\n",
              "Date                                                                  \n",
              "2023-04-24 -0.001561 -0.013963  0.012427 -0.007461  0.010167  0.018878\n",
              "2023-04-25 -0.001564 -0.022536 -0.019120 -0.014533  0.000457 -0.014213\n",
              "2023-04-26 -0.004698  0.072435 -0.006578 -0.017798  0.019481 -0.009183\n",
              "2023-04-27  0.002046  0.032028  0.015019  0.002847  0.011483  0.011953\n",
              "2023-04-28  0.007381  0.007972  0.008115  0.003872  0.013658  0.012925"
            ],
            "text/html": [
              "\n",
              "  <div id=\"df-167feb0c-0b5d-431e-9ffb-188530a5c2d5\" class=\"colab-df-container\">\n",
              "    <div>\n",
              "<style scoped>\n",
              "    .dataframe tbody tr th:only-of-type {\n",
              "        vertical-align: middle;\n",
              "    }\n",
              "\n",
              "    .dataframe tbody tr th {\n",
              "        vertical-align: top;\n",
              "    }\n",
              "\n",
              "    .dataframe thead th {\n",
              "        text-align: right;\n",
              "    }\n",
              "</style>\n",
              "<table border=\"1\" class=\"dataframe\">\n",
              "  <thead>\n",
              "    <tr style=\"text-align: right;\">\n",
              "      <th></th>\n",
              "      <th>KO</th>\n",
              "      <th>MSFT</th>\n",
              "      <th>NKE</th>\n",
              "      <th>PFE</th>\n",
              "      <th>SBUX</th>\n",
              "      <th>XOM</th>\n",
              "    </tr>\n",
              "    <tr>\n",
              "      <th>Date</th>\n",
              "      <th></th>\n",
              "      <th></th>\n",
              "      <th></th>\n",
              "      <th></th>\n",
              "      <th></th>\n",
              "      <th></th>\n",
              "    </tr>\n",
              "  </thead>\n",
              "  <tbody>\n",
              "    <tr>\n",
              "      <th>2023-04-24</th>\n",
              "      <td>-0.001561</td>\n",
              "      <td>-0.013963</td>\n",
              "      <td>0.012427</td>\n",
              "      <td>-0.007461</td>\n",
              "      <td>0.010167</td>\n",
              "      <td>0.018878</td>\n",
              "    </tr>\n",
              "    <tr>\n",
              "      <th>2023-04-25</th>\n",
              "      <td>-0.001564</td>\n",
              "      <td>-0.022536</td>\n",
              "      <td>-0.019120</td>\n",
              "      <td>-0.014533</td>\n",
              "      <td>0.000457</td>\n",
              "      <td>-0.014213</td>\n",
              "    </tr>\n",
              "    <tr>\n",
              "      <th>2023-04-26</th>\n",
              "      <td>-0.004698</td>\n",
              "      <td>0.072435</td>\n",
              "      <td>-0.006578</td>\n",
              "      <td>-0.017798</td>\n",
              "      <td>0.019481</td>\n",
              "      <td>-0.009183</td>\n",
              "    </tr>\n",
              "    <tr>\n",
              "      <th>2023-04-27</th>\n",
              "      <td>0.002046</td>\n",
              "      <td>0.032028</td>\n",
              "      <td>0.015019</td>\n",
              "      <td>0.002847</td>\n",
              "      <td>0.011483</td>\n",
              "      <td>0.011953</td>\n",
              "    </tr>\n",
              "    <tr>\n",
              "      <th>2023-04-28</th>\n",
              "      <td>0.007381</td>\n",
              "      <td>0.007972</td>\n",
              "      <td>0.008115</td>\n",
              "      <td>0.003872</td>\n",
              "      <td>0.013658</td>\n",
              "      <td>0.012925</td>\n",
              "    </tr>\n",
              "  </tbody>\n",
              "</table>\n",
              "</div>\n",
              "    <div class=\"colab-df-buttons\">\n",
              "\n",
              "  <div class=\"colab-df-container\">\n",
              "    <button class=\"colab-df-convert\" onclick=\"convertToInteractive('df-167feb0c-0b5d-431e-9ffb-188530a5c2d5')\"\n",
              "            title=\"Convert this dataframe to an interactive table.\"\n",
              "            style=\"display:none;\">\n",
              "\n",
              "  <svg xmlns=\"http://www.w3.org/2000/svg\" height=\"24px\" viewBox=\"0 -960 960 960\">\n",
              "    <path d=\"M120-120v-720h720v720H120Zm60-500h600v-160H180v160Zm220 220h160v-160H400v160Zm0 220h160v-160H400v160ZM180-400h160v-160H180v160Zm440 0h160v-160H620v160ZM180-180h160v-160H180v160Zm440 0h160v-160H620v160Z\"/>\n",
              "  </svg>\n",
              "    </button>\n",
              "\n",
              "  <style>\n",
              "    .colab-df-container {\n",
              "      display:flex;\n",
              "      gap: 12px;\n",
              "    }\n",
              "\n",
              "    .colab-df-convert {\n",
              "      background-color: #E8F0FE;\n",
              "      border: none;\n",
              "      border-radius: 50%;\n",
              "      cursor: pointer;\n",
              "      display: none;\n",
              "      fill: #1967D2;\n",
              "      height: 32px;\n",
              "      padding: 0 0 0 0;\n",
              "      width: 32px;\n",
              "    }\n",
              "\n",
              "    .colab-df-convert:hover {\n",
              "      background-color: #E2EBFA;\n",
              "      box-shadow: 0px 1px 2px rgba(60, 64, 67, 0.3), 0px 1px 3px 1px rgba(60, 64, 67, 0.15);\n",
              "      fill: #174EA6;\n",
              "    }\n",
              "\n",
              "    .colab-df-buttons div {\n",
              "      margin-bottom: 4px;\n",
              "    }\n",
              "\n",
              "    [theme=dark] .colab-df-convert {\n",
              "      background-color: #3B4455;\n",
              "      fill: #D2E3FC;\n",
              "    }\n",
              "\n",
              "    [theme=dark] .colab-df-convert:hover {\n",
              "      background-color: #434B5C;\n",
              "      box-shadow: 0px 1px 3px 1px rgba(0, 0, 0, 0.15);\n",
              "      filter: drop-shadow(0px 1px 2px rgba(0, 0, 0, 0.3));\n",
              "      fill: #FFFFFF;\n",
              "    }\n",
              "  </style>\n",
              "\n",
              "    <script>\n",
              "      const buttonEl =\n",
              "        document.querySelector('#df-167feb0c-0b5d-431e-9ffb-188530a5c2d5 button.colab-df-convert');\n",
              "      buttonEl.style.display =\n",
              "        google.colab.kernel.accessAllowed ? 'block' : 'none';\n",
              "\n",
              "      async function convertToInteractive(key) {\n",
              "        const element = document.querySelector('#df-167feb0c-0b5d-431e-9ffb-188530a5c2d5');\n",
              "        const dataTable =\n",
              "          await google.colab.kernel.invokeFunction('convertToInteractive',\n",
              "                                                    [key], {});\n",
              "        if (!dataTable) return;\n",
              "\n",
              "        const docLinkHtml = 'Like what you see? Visit the ' +\n",
              "          '<a target=\"_blank\" href=https://colab.research.google.com/notebooks/data_table.ipynb>data table notebook</a>'\n",
              "          + ' to learn more about interactive tables.';\n",
              "        element.innerHTML = '';\n",
              "        dataTable['output_type'] = 'display_data';\n",
              "        await google.colab.output.renderOutput(dataTable, element);\n",
              "        const docLink = document.createElement('div');\n",
              "        docLink.innerHTML = docLinkHtml;\n",
              "        element.appendChild(docLink);\n",
              "      }\n",
              "    </script>\n",
              "  </div>\n",
              "\n",
              "\n",
              "<div id=\"df-c52d5986-6f68-4aaf-a409-946ca6122ef8\">\n",
              "  <button class=\"colab-df-quickchart\" onclick=\"quickchart('df-c52d5986-6f68-4aaf-a409-946ca6122ef8')\"\n",
              "            title=\"Suggest charts.\"\n",
              "            style=\"display:none;\">\n",
              "\n",
              "<svg xmlns=\"http://www.w3.org/2000/svg\" height=\"24px\"viewBox=\"0 0 24 24\"\n",
              "     width=\"24px\">\n",
              "    <g>\n",
              "        <path d=\"M19 3H5c-1.1 0-2 .9-2 2v14c0 1.1.9 2 2 2h14c1.1 0 2-.9 2-2V5c0-1.1-.9-2-2-2zM9 17H7v-7h2v7zm4 0h-2V7h2v10zm4 0h-2v-4h2v4z\"/>\n",
              "    </g>\n",
              "</svg>\n",
              "  </button>\n",
              "\n",
              "<style>\n",
              "  .colab-df-quickchart {\n",
              "      --bg-color: #E8F0FE;\n",
              "      --fill-color: #1967D2;\n",
              "      --hover-bg-color: #E2EBFA;\n",
              "      --hover-fill-color: #174EA6;\n",
              "      --disabled-fill-color: #AAA;\n",
              "      --disabled-bg-color: #DDD;\n",
              "  }\n",
              "\n",
              "  [theme=dark] .colab-df-quickchart {\n",
              "      --bg-color: #3B4455;\n",
              "      --fill-color: #D2E3FC;\n",
              "      --hover-bg-color: #434B5C;\n",
              "      --hover-fill-color: #FFFFFF;\n",
              "      --disabled-bg-color: #3B4455;\n",
              "      --disabled-fill-color: #666;\n",
              "  }\n",
              "\n",
              "  .colab-df-quickchart {\n",
              "    background-color: var(--bg-color);\n",
              "    border: none;\n",
              "    border-radius: 50%;\n",
              "    cursor: pointer;\n",
              "    display: none;\n",
              "    fill: var(--fill-color);\n",
              "    height: 32px;\n",
              "    padding: 0;\n",
              "    width: 32px;\n",
              "  }\n",
              "\n",
              "  .colab-df-quickchart:hover {\n",
              "    background-color: var(--hover-bg-color);\n",
              "    box-shadow: 0 1px 2px rgba(60, 64, 67, 0.3), 0 1px 3px 1px rgba(60, 64, 67, 0.15);\n",
              "    fill: var(--button-hover-fill-color);\n",
              "  }\n",
              "\n",
              "  .colab-df-quickchart-complete:disabled,\n",
              "  .colab-df-quickchart-complete:disabled:hover {\n",
              "    background-color: var(--disabled-bg-color);\n",
              "    fill: var(--disabled-fill-color);\n",
              "    box-shadow: none;\n",
              "  }\n",
              "\n",
              "  .colab-df-spinner {\n",
              "    border: 2px solid var(--fill-color);\n",
              "    border-color: transparent;\n",
              "    border-bottom-color: var(--fill-color);\n",
              "    animation:\n",
              "      spin 1s steps(1) infinite;\n",
              "  }\n",
              "\n",
              "  @keyframes spin {\n",
              "    0% {\n",
              "      border-color: transparent;\n",
              "      border-bottom-color: var(--fill-color);\n",
              "      border-left-color: var(--fill-color);\n",
              "    }\n",
              "    20% {\n",
              "      border-color: transparent;\n",
              "      border-left-color: var(--fill-color);\n",
              "      border-top-color: var(--fill-color);\n",
              "    }\n",
              "    30% {\n",
              "      border-color: transparent;\n",
              "      border-left-color: var(--fill-color);\n",
              "      border-top-color: var(--fill-color);\n",
              "      border-right-color: var(--fill-color);\n",
              "    }\n",
              "    40% {\n",
              "      border-color: transparent;\n",
              "      border-right-color: var(--fill-color);\n",
              "      border-top-color: var(--fill-color);\n",
              "    }\n",
              "    60% {\n",
              "      border-color: transparent;\n",
              "      border-right-color: var(--fill-color);\n",
              "    }\n",
              "    80% {\n",
              "      border-color: transparent;\n",
              "      border-right-color: var(--fill-color);\n",
              "      border-bottom-color: var(--fill-color);\n",
              "    }\n",
              "    90% {\n",
              "      border-color: transparent;\n",
              "      border-bottom-color: var(--fill-color);\n",
              "    }\n",
              "  }\n",
              "</style>\n",
              "\n",
              "  <script>\n",
              "    async function quickchart(key) {\n",
              "      const quickchartButtonEl =\n",
              "        document.querySelector('#' + key + ' button');\n",
              "      quickchartButtonEl.disabled = true;  // To prevent multiple clicks.\n",
              "      quickchartButtonEl.classList.add('colab-df-spinner');\n",
              "      try {\n",
              "        const charts = await google.colab.kernel.invokeFunction(\n",
              "            'suggestCharts', [key], {});\n",
              "      } catch (error) {\n",
              "        console.error('Error during call to suggestCharts:', error);\n",
              "      }\n",
              "      quickchartButtonEl.classList.remove('colab-df-spinner');\n",
              "      quickchartButtonEl.classList.add('colab-df-quickchart-complete');\n",
              "    }\n",
              "    (() => {\n",
              "      let quickchartButtonEl =\n",
              "        document.querySelector('#df-c52d5986-6f68-4aaf-a409-946ca6122ef8 button');\n",
              "      quickchartButtonEl.style.display =\n",
              "        google.colab.kernel.accessAllowed ? 'block' : 'none';\n",
              "    })();\n",
              "  </script>\n",
              "</div>\n",
              "    </div>\n",
              "  </div>\n"
            ]
          },
          "metadata": {},
          "execution_count": 12
        }
      ]
    },
    {
      "cell_type": "markdown",
      "source": [
        "I am doing .prod() method to see cumulative prod for period from 21st April to the 18th May."
      ],
      "metadata": {
        "id": "TXeX-x2C-Fmy"
      }
    },
    {
      "cell_type": "code",
      "source": [
        "(rets1+1).prod()"
      ],
      "metadata": {
        "colab": {
          "base_uri": "https://localhost:8080/"
        },
        "id": "ks_etgu6-wlw",
        "outputId": "f37776c7-42a0-428c-8ed5-95aa45703d4d"
      },
      "execution_count": 13,
      "outputs": [
        {
          "output_type": "execute_result",
          "data": {
            "text/plain": [
              "KO      0.985948\n",
              "MSFT    1.101226\n",
              "NKE     0.931889\n",
              "PFE     0.923841\n",
              "SBUX    0.981757\n",
              "XOM     0.911383\n",
              "dtype: float64"
            ]
          },
          "metadata": {},
          "execution_count": 13
        }
      ]
    },
    {
      "cell_type": "markdown",
      "source": [
        "We can see here that only Microsoft has positive cumulative return(10.12%). The Biggest underperformer is Exxon Mobil (-8.87%)"
      ],
      "metadata": {
        "id": "9ItsW2hv-yZH"
      }
    },
    {
      "cell_type": "markdown",
      "source": [
        "### Returns and .prod() method for TA portfolio"
      ],
      "metadata": {
        "id": "5RtlLD-BCGP8"
      }
    },
    {
      "cell_type": "code",
      "source": [
        "#returns of taportf\n",
        "rets2 = taprices.pct_change().dropna()\n",
        "rets2.head()"
      ],
      "metadata": {
        "colab": {
          "base_uri": "https://localhost:8080/",
          "height": 238
        },
        "id": "mcFgu23h4RRv",
        "outputId": "c69d75d5-46b0-46e8-c781-4635f50888ea"
      },
      "execution_count": 16,
      "outputs": [
        {
          "output_type": "execute_result",
          "data": {
            "text/plain": [
              "                 AZN       CCL       MCD      NVDA      RIVN        UA\n",
              "Date                                                                  \n",
              "2023-04-24  0.002778 -0.010661  0.003903 -0.002839  0.008980  0.008728\n",
              "2023-04-25 -0.001978 -0.034483 -0.005764 -0.029621 -0.029126 -0.035847\n",
              "2023-04-26 -0.026566 -0.022321 -0.006003  0.027247  0.003333  0.008974\n",
              "2023-04-27  0.001765  0.015982  0.017118  0.010016  0.052326  0.010165\n",
              "2023-04-28 -0.007590  0.034832  0.003495  0.019209  0.011839  0.011321"
            ],
            "text/html": [
              "\n",
              "  <div id=\"df-604ca8f8-1a16-47e3-964f-a4a8f4e5a6f9\" class=\"colab-df-container\">\n",
              "    <div>\n",
              "<style scoped>\n",
              "    .dataframe tbody tr th:only-of-type {\n",
              "        vertical-align: middle;\n",
              "    }\n",
              "\n",
              "    .dataframe tbody tr th {\n",
              "        vertical-align: top;\n",
              "    }\n",
              "\n",
              "    .dataframe thead th {\n",
              "        text-align: right;\n",
              "    }\n",
              "</style>\n",
              "<table border=\"1\" class=\"dataframe\">\n",
              "  <thead>\n",
              "    <tr style=\"text-align: right;\">\n",
              "      <th></th>\n",
              "      <th>AZN</th>\n",
              "      <th>CCL</th>\n",
              "      <th>MCD</th>\n",
              "      <th>NVDA</th>\n",
              "      <th>RIVN</th>\n",
              "      <th>UA</th>\n",
              "    </tr>\n",
              "    <tr>\n",
              "      <th>Date</th>\n",
              "      <th></th>\n",
              "      <th></th>\n",
              "      <th></th>\n",
              "      <th></th>\n",
              "      <th></th>\n",
              "      <th></th>\n",
              "    </tr>\n",
              "  </thead>\n",
              "  <tbody>\n",
              "    <tr>\n",
              "      <th>2023-04-24</th>\n",
              "      <td>0.002778</td>\n",
              "      <td>-0.010661</td>\n",
              "      <td>0.003903</td>\n",
              "      <td>-0.002839</td>\n",
              "      <td>0.008980</td>\n",
              "      <td>0.008728</td>\n",
              "    </tr>\n",
              "    <tr>\n",
              "      <th>2023-04-25</th>\n",
              "      <td>-0.001978</td>\n",
              "      <td>-0.034483</td>\n",
              "      <td>-0.005764</td>\n",
              "      <td>-0.029621</td>\n",
              "      <td>-0.029126</td>\n",
              "      <td>-0.035847</td>\n",
              "    </tr>\n",
              "    <tr>\n",
              "      <th>2023-04-26</th>\n",
              "      <td>-0.026566</td>\n",
              "      <td>-0.022321</td>\n",
              "      <td>-0.006003</td>\n",
              "      <td>0.027247</td>\n",
              "      <td>0.003333</td>\n",
              "      <td>0.008974</td>\n",
              "    </tr>\n",
              "    <tr>\n",
              "      <th>2023-04-27</th>\n",
              "      <td>0.001765</td>\n",
              "      <td>0.015982</td>\n",
              "      <td>0.017118</td>\n",
              "      <td>0.010016</td>\n",
              "      <td>0.052326</td>\n",
              "      <td>0.010165</td>\n",
              "    </tr>\n",
              "    <tr>\n",
              "      <th>2023-04-28</th>\n",
              "      <td>-0.007590</td>\n",
              "      <td>0.034832</td>\n",
              "      <td>0.003495</td>\n",
              "      <td>0.019209</td>\n",
              "      <td>0.011839</td>\n",
              "      <td>0.011321</td>\n",
              "    </tr>\n",
              "  </tbody>\n",
              "</table>\n",
              "</div>\n",
              "    <div class=\"colab-df-buttons\">\n",
              "\n",
              "  <div class=\"colab-df-container\">\n",
              "    <button class=\"colab-df-convert\" onclick=\"convertToInteractive('df-604ca8f8-1a16-47e3-964f-a4a8f4e5a6f9')\"\n",
              "            title=\"Convert this dataframe to an interactive table.\"\n",
              "            style=\"display:none;\">\n",
              "\n",
              "  <svg xmlns=\"http://www.w3.org/2000/svg\" height=\"24px\" viewBox=\"0 -960 960 960\">\n",
              "    <path d=\"M120-120v-720h720v720H120Zm60-500h600v-160H180v160Zm220 220h160v-160H400v160Zm0 220h160v-160H400v160ZM180-400h160v-160H180v160Zm440 0h160v-160H620v160ZM180-180h160v-160H180v160Zm440 0h160v-160H620v160Z\"/>\n",
              "  </svg>\n",
              "    </button>\n",
              "\n",
              "  <style>\n",
              "    .colab-df-container {\n",
              "      display:flex;\n",
              "      gap: 12px;\n",
              "    }\n",
              "\n",
              "    .colab-df-convert {\n",
              "      background-color: #E8F0FE;\n",
              "      border: none;\n",
              "      border-radius: 50%;\n",
              "      cursor: pointer;\n",
              "      display: none;\n",
              "      fill: #1967D2;\n",
              "      height: 32px;\n",
              "      padding: 0 0 0 0;\n",
              "      width: 32px;\n",
              "    }\n",
              "\n",
              "    .colab-df-convert:hover {\n",
              "      background-color: #E2EBFA;\n",
              "      box-shadow: 0px 1px 2px rgba(60, 64, 67, 0.3), 0px 1px 3px 1px rgba(60, 64, 67, 0.15);\n",
              "      fill: #174EA6;\n",
              "    }\n",
              "\n",
              "    .colab-df-buttons div {\n",
              "      margin-bottom: 4px;\n",
              "    }\n",
              "\n",
              "    [theme=dark] .colab-df-convert {\n",
              "      background-color: #3B4455;\n",
              "      fill: #D2E3FC;\n",
              "    }\n",
              "\n",
              "    [theme=dark] .colab-df-convert:hover {\n",
              "      background-color: #434B5C;\n",
              "      box-shadow: 0px 1px 3px 1px rgba(0, 0, 0, 0.15);\n",
              "      filter: drop-shadow(0px 1px 2px rgba(0, 0, 0, 0.3));\n",
              "      fill: #FFFFFF;\n",
              "    }\n",
              "  </style>\n",
              "\n",
              "    <script>\n",
              "      const buttonEl =\n",
              "        document.querySelector('#df-604ca8f8-1a16-47e3-964f-a4a8f4e5a6f9 button.colab-df-convert');\n",
              "      buttonEl.style.display =\n",
              "        google.colab.kernel.accessAllowed ? 'block' : 'none';\n",
              "\n",
              "      async function convertToInteractive(key) {\n",
              "        const element = document.querySelector('#df-604ca8f8-1a16-47e3-964f-a4a8f4e5a6f9');\n",
              "        const dataTable =\n",
              "          await google.colab.kernel.invokeFunction('convertToInteractive',\n",
              "                                                    [key], {});\n",
              "        if (!dataTable) return;\n",
              "\n",
              "        const docLinkHtml = 'Like what you see? Visit the ' +\n",
              "          '<a target=\"_blank\" href=https://colab.research.google.com/notebooks/data_table.ipynb>data table notebook</a>'\n",
              "          + ' to learn more about interactive tables.';\n",
              "        element.innerHTML = '';\n",
              "        dataTable['output_type'] = 'display_data';\n",
              "        await google.colab.output.renderOutput(dataTable, element);\n",
              "        const docLink = document.createElement('div');\n",
              "        docLink.innerHTML = docLinkHtml;\n",
              "        element.appendChild(docLink);\n",
              "      }\n",
              "    </script>\n",
              "  </div>\n",
              "\n",
              "\n",
              "<div id=\"df-265800df-6cd4-4a8d-9a03-a0754eaa0493\">\n",
              "  <button class=\"colab-df-quickchart\" onclick=\"quickchart('df-265800df-6cd4-4a8d-9a03-a0754eaa0493')\"\n",
              "            title=\"Suggest charts.\"\n",
              "            style=\"display:none;\">\n",
              "\n",
              "<svg xmlns=\"http://www.w3.org/2000/svg\" height=\"24px\"viewBox=\"0 0 24 24\"\n",
              "     width=\"24px\">\n",
              "    <g>\n",
              "        <path d=\"M19 3H5c-1.1 0-2 .9-2 2v14c0 1.1.9 2 2 2h14c1.1 0 2-.9 2-2V5c0-1.1-.9-2-2-2zM9 17H7v-7h2v7zm4 0h-2V7h2v10zm4 0h-2v-4h2v4z\"/>\n",
              "    </g>\n",
              "</svg>\n",
              "  </button>\n",
              "\n",
              "<style>\n",
              "  .colab-df-quickchart {\n",
              "      --bg-color: #E8F0FE;\n",
              "      --fill-color: #1967D2;\n",
              "      --hover-bg-color: #E2EBFA;\n",
              "      --hover-fill-color: #174EA6;\n",
              "      --disabled-fill-color: #AAA;\n",
              "      --disabled-bg-color: #DDD;\n",
              "  }\n",
              "\n",
              "  [theme=dark] .colab-df-quickchart {\n",
              "      --bg-color: #3B4455;\n",
              "      --fill-color: #D2E3FC;\n",
              "      --hover-bg-color: #434B5C;\n",
              "      --hover-fill-color: #FFFFFF;\n",
              "      --disabled-bg-color: #3B4455;\n",
              "      --disabled-fill-color: #666;\n",
              "  }\n",
              "\n",
              "  .colab-df-quickchart {\n",
              "    background-color: var(--bg-color);\n",
              "    border: none;\n",
              "    border-radius: 50%;\n",
              "    cursor: pointer;\n",
              "    display: none;\n",
              "    fill: var(--fill-color);\n",
              "    height: 32px;\n",
              "    padding: 0;\n",
              "    width: 32px;\n",
              "  }\n",
              "\n",
              "  .colab-df-quickchart:hover {\n",
              "    background-color: var(--hover-bg-color);\n",
              "    box-shadow: 0 1px 2px rgba(60, 64, 67, 0.3), 0 1px 3px 1px rgba(60, 64, 67, 0.15);\n",
              "    fill: var(--button-hover-fill-color);\n",
              "  }\n",
              "\n",
              "  .colab-df-quickchart-complete:disabled,\n",
              "  .colab-df-quickchart-complete:disabled:hover {\n",
              "    background-color: var(--disabled-bg-color);\n",
              "    fill: var(--disabled-fill-color);\n",
              "    box-shadow: none;\n",
              "  }\n",
              "\n",
              "  .colab-df-spinner {\n",
              "    border: 2px solid var(--fill-color);\n",
              "    border-color: transparent;\n",
              "    border-bottom-color: var(--fill-color);\n",
              "    animation:\n",
              "      spin 1s steps(1) infinite;\n",
              "  }\n",
              "\n",
              "  @keyframes spin {\n",
              "    0% {\n",
              "      border-color: transparent;\n",
              "      border-bottom-color: var(--fill-color);\n",
              "      border-left-color: var(--fill-color);\n",
              "    }\n",
              "    20% {\n",
              "      border-color: transparent;\n",
              "      border-left-color: var(--fill-color);\n",
              "      border-top-color: var(--fill-color);\n",
              "    }\n",
              "    30% {\n",
              "      border-color: transparent;\n",
              "      border-left-color: var(--fill-color);\n",
              "      border-top-color: var(--fill-color);\n",
              "      border-right-color: var(--fill-color);\n",
              "    }\n",
              "    40% {\n",
              "      border-color: transparent;\n",
              "      border-right-color: var(--fill-color);\n",
              "      border-top-color: var(--fill-color);\n",
              "    }\n",
              "    60% {\n",
              "      border-color: transparent;\n",
              "      border-right-color: var(--fill-color);\n",
              "    }\n",
              "    80% {\n",
              "      border-color: transparent;\n",
              "      border-right-color: var(--fill-color);\n",
              "      border-bottom-color: var(--fill-color);\n",
              "    }\n",
              "    90% {\n",
              "      border-color: transparent;\n",
              "      border-bottom-color: var(--fill-color);\n",
              "    }\n",
              "  }\n",
              "</style>\n",
              "\n",
              "  <script>\n",
              "    async function quickchart(key) {\n",
              "      const quickchartButtonEl =\n",
              "        document.querySelector('#' + key + ' button');\n",
              "      quickchartButtonEl.disabled = true;  // To prevent multiple clicks.\n",
              "      quickchartButtonEl.classList.add('colab-df-spinner');\n",
              "      try {\n",
              "        const charts = await google.colab.kernel.invokeFunction(\n",
              "            'suggestCharts', [key], {});\n",
              "      } catch (error) {\n",
              "        console.error('Error during call to suggestCharts:', error);\n",
              "      }\n",
              "      quickchartButtonEl.classList.remove('colab-df-spinner');\n",
              "      quickchartButtonEl.classList.add('colab-df-quickchart-complete');\n",
              "    }\n",
              "    (() => {\n",
              "      let quickchartButtonEl =\n",
              "        document.querySelector('#df-265800df-6cd4-4a8d-9a03-a0754eaa0493 button');\n",
              "      quickchartButtonEl.style.display =\n",
              "        google.colab.kernel.accessAllowed ? 'block' : 'none';\n",
              "    })();\n",
              "  </script>\n",
              "</div>\n",
              "    </div>\n",
              "  </div>\n"
            ]
          },
          "metadata": {},
          "execution_count": 16
        }
      ]
    },
    {
      "cell_type": "markdown",
      "source": [
        "I repeat doing .prod() method to see cumulative prod for period from 21st April to the 18th May for ta portfolio."
      ],
      "metadata": {
        "id": "CHiLD858_Sn4"
      }
    },
    {
      "cell_type": "code",
      "source": [
        "(rets2+1).prod()"
      ],
      "metadata": {
        "colab": {
          "base_uri": "https://localhost:8080/"
        },
        "id": "9nfgFVn1_vxI",
        "outputId": "03f73034-b587-4125-84e4-d58519e466aa"
      },
      "execution_count": 14,
      "outputs": [
        {
          "output_type": "execute_result",
          "data": {
            "text/plain": [
              "AZN     0.988095\n",
              "CCL     1.176972\n",
              "MCD     1.004794\n",
              "NVDA    1.112799\n",
              "RIVN    1.094694\n",
              "UA      0.857855\n",
              "dtype: float64"
            ]
          },
          "metadata": {},
          "execution_count": 14
        }
      ]
    },
    {
      "cell_type": "markdown",
      "source": [
        "We Can see that we have 4 cumulative returns in plus. Winner is Carnival Corporation (CCL) with 17.70% and the biggest losser is Under Armour(UA) with -14.31%"
      ],
      "metadata": {
        "id": "y1fXdlRI_19P"
      }
    },
    {
      "cell_type": "markdown",
      "source": [
        "### Expected Returns with .mean() method for NTA portfolio"
      ],
      "metadata": {
        "id": "RQwhwtyHCRBO"
      }
    },
    {
      "cell_type": "markdown",
      "source": [
        "I will do now expected return with .mean() for non ta portfolio. I will do it on the Daily basis and for the entire period(20 working days)"
      ],
      "metadata": {
        "id": "QUZgAJgaATfh"
      }
    },
    {
      "cell_type": "code",
      "source": [
        "#Daily expected returns\n",
        "exp_ret1 = rets1.mean()\n",
        "print(rets1.mean())\n",
        "print(\"*\"*50)\n",
        "#Entire Period daily returns(20 days)\n",
        "print(exp_ret1*20)"
      ],
      "metadata": {
        "colab": {
          "base_uri": "https://localhost:8080/"
        },
        "id": "C7gjVV0AAwLM",
        "outputId": "d297b777-5c9f-4762-9c2b-d7da6e94c638"
      },
      "execution_count": 28,
      "outputs": [
        {
          "output_type": "stream",
          "name": "stdout",
          "text": [
            "KO     -0.000774\n",
            "MSFT    0.005571\n",
            "NKE    -0.003816\n",
            "PFE    -0.004365\n",
            "SBUX   -0.000726\n",
            "XOM    -0.004975\n",
            "dtype: float64\n",
            "**************************************************\n",
            "KO     -0.015488\n",
            "MSFT    0.111419\n",
            "NKE    -0.076319\n",
            "PFE    -0.087303\n",
            "SBUX   -0.014521\n",
            "XOM    -0.099498\n",
            "dtype: float64\n"
          ]
        }
      ]
    },
    {
      "cell_type": "markdown",
      "source": [
        "As we can see, expected return for each of this stock in first portfolio is mostly negative."
      ],
      "metadata": {
        "id": "3Qihqd21BHaM"
      }
    },
    {
      "cell_type": "markdown",
      "source": [
        "### Expected Returns with .mean() method for TA portfolio"
      ],
      "metadata": {
        "id": "yaREJ62OCfAS"
      }
    },
    {
      "cell_type": "markdown",
      "source": [
        "Now I will do now expected return with .mean() for non ta portfolio. I will do it on the Daily basis and for the entire period(20 working days)"
      ],
      "metadata": {
        "id": "5zMkDd-RBQhg"
      }
    },
    {
      "cell_type": "code",
      "source": [
        "#Daily Expected Returns\n",
        "exp_ret2= rets2.mean()\n",
        "print(rets2.mean())\n",
        "print(\"*\"*50)\n",
        "#Expected Return for the entire period(20 days)\n",
        "print(exp_ret2*20)"
      ],
      "metadata": {
        "colab": {
          "base_uri": "https://localhost:8080/"
        },
        "id": "43HyoglQCjxd",
        "outputId": "85dee204-6d2f-48ff-c98e-a11c654988cd"
      },
      "execution_count": 31,
      "outputs": [
        {
          "output_type": "stream",
          "name": "stdout",
          "text": [
            "AZN    -0.000632\n",
            "CCL     0.009630\n",
            "MCD     0.000283\n",
            "NVDA    0.006184\n",
            "RIVN    0.005442\n",
            "UA     -0.008147\n",
            "dtype: float64\n",
            "**************************************************\n",
            "AZN    -0.012631\n",
            "CCL     0.192596\n",
            "MCD     0.005670\n",
            "NVDA    0.123679\n",
            "RIVN    0.108833\n",
            "UA     -0.162944\n",
            "dtype: float64\n"
          ]
        }
      ]
    },
    {
      "cell_type": "markdown",
      "source": [
        "We can see that this portfolio is mostly positive"
      ],
      "metadata": {
        "id": "9uHxIouHC5hv"
      }
    },
    {
      "cell_type": "markdown",
      "source": [
        "### Volatility for NTA portfolio"
      ],
      "metadata": {
        "id": "Qzlw620cC_DW"
      }
    },
    {
      "cell_type": "markdown",
      "source": [
        "Now we are doing Volatility for NTA portfolio"
      ],
      "metadata": {
        "id": "w33h5oKaDVAx"
      }
    },
    {
      "cell_type": "code",
      "source": [
        "#basic\n",
        "vol1=rets1.std()*20**0.5\n",
        "print(vol1)\n",
        "print(\"*\"*50)\n",
        "\n",
        "#Numpy method\n",
        "np.std(rets1,ddof=1)*np.sqrt(20)"
      ],
      "metadata": {
        "colab": {
          "base_uri": "https://localhost:8080/"
        },
        "id": "Lc_-YmHdC-Z9",
        "outputId": "6b2e772e-9a5f-48cc-f94c-3384f07f6688"
      },
      "execution_count": 24,
      "outputs": [
        {
          "output_type": "stream",
          "name": "stdout",
          "text": [
            "KO      0.022026\n",
            "MSFT    0.093343\n",
            "NKE     0.063459\n",
            "PFE     0.033127\n",
            "SBUX    0.109212\n",
            "XOM     0.083848\n",
            "dtype: float64\n",
            "**************************************************\n"
          ]
        },
        {
          "output_type": "execute_result",
          "data": {
            "text/plain": [
              "KO      0.022026\n",
              "MSFT    0.093343\n",
              "NKE     0.063459\n",
              "PFE     0.033127\n",
              "SBUX    0.109212\n",
              "XOM     0.083848\n",
              "dtype: float64"
            ]
          },
          "metadata": {},
          "execution_count": 24
        }
      ]
    },
    {
      "cell_type": "markdown",
      "source": [
        "### Volatility for TA portfolio"
      ],
      "metadata": {
        "id": "7BoIdrSgDbAv"
      }
    },
    {
      "cell_type": "markdown",
      "source": [
        "And now Volatility for TA portfolio"
      ],
      "metadata": {
        "id": "o9VEqbQ5Dfkx"
      }
    },
    {
      "cell_type": "code",
      "source": [
        "#Basic\n",
        "vol2=rets2.std()*20**0.5\n",
        "print(vol2)\n",
        "print(\"*\"*50)\n",
        "\n",
        "#Numpy method\n",
        "np.std(rets2,ddof=1)*np.sqrt(20)"
      ],
      "metadata": {
        "colab": {
          "base_uri": "https://localhost:8080/"
        },
        "id": "bVCTpPE_DiOZ",
        "outputId": "0c56be0e-4f73-46b5-8032-2178ae8058c4"
      },
      "execution_count": 25,
      "outputs": [
        {
          "output_type": "stream",
          "name": "stdout",
          "text": [
            "AZN     0.037562\n",
            "CCL     0.152024\n",
            "MCD     0.027501\n",
            "NVDA    0.098716\n",
            "RIVN    0.130052\n",
            "UA      0.118295\n",
            "dtype: float64\n",
            "**************************************************\n"
          ]
        },
        {
          "output_type": "execute_result",
          "data": {
            "text/plain": [
              "AZN     0.037562\n",
              "CCL     0.152024\n",
              "MCD     0.027501\n",
              "NVDA    0.098716\n",
              "RIVN    0.130052\n",
              "UA      0.118295\n",
              "dtype: float64"
            ]
          },
          "metadata": {},
          "execution_count": 25
        }
      ]
    },
    {
      "cell_type": "markdown",
      "source": [
        "### Risk-adjusted performance ratios for NTA portfolio"
      ],
      "metadata": {
        "id": "FqxMLjxqERAW"
      }
    },
    {
      "cell_type": "code",
      "source": [
        "#Comparison using the sample mean\n",
        "exp_ret1/vol1"
      ],
      "metadata": {
        "colab": {
          "base_uri": "https://localhost:8080/"
        },
        "id": "K7erWcCjEYjM",
        "outputId": "42e290be-42f6-414f-b9f3-fd16166a75a9"
      },
      "execution_count": 32,
      "outputs": [
        {
          "output_type": "execute_result",
          "data": {
            "text/plain": [
              "KO     -0.035159\n",
              "MSFT    0.059683\n",
              "NKE    -0.060133\n",
              "PFE    -0.131770\n",
              "SBUX   -0.006648\n",
              "XOM    -0.059332\n",
              "dtype: float64"
            ]
          },
          "metadata": {},
          "execution_count": 32
        }
      ]
    },
    {
      "cell_type": "markdown",
      "source": [
        "### Risk-adjusted performance ratios for TA portfolio"
      ],
      "metadata": {
        "id": "N9Pg4-jsFE3H"
      }
    },
    {
      "cell_type": "code",
      "source": [
        "exp_ret2/vol2"
      ],
      "metadata": {
        "colab": {
          "base_uri": "https://localhost:8080/"
        },
        "id": "Wv8RuK8SFEMh",
        "outputId": "c383531d-9042-4869-982e-bd136da4d207"
      },
      "execution_count": 33,
      "outputs": [
        {
          "output_type": "execute_result",
          "data": {
            "text/plain": [
              "AZN    -0.016813\n",
              "CCL     0.063344\n",
              "MCD     0.010309\n",
              "NVDA    0.062644\n",
              "RIVN    0.041842\n",
              "UA     -0.068872\n",
              "dtype: float64"
            ]
          },
          "metadata": {},
          "execution_count": 33
        }
      ]
    },
    {
      "cell_type": "markdown",
      "source": [
        "### Sharpe for NTA portfolio"
      ],
      "metadata": {
        "id": "i9t75bf5FWgW"
      }
    },
    {
      "cell_type": "code",
      "source": [
        "rf=0.03\n",
        "sharpe1=(exp_ret1-rf)/vol1\n",
        "sharpe1"
      ],
      "metadata": {
        "colab": {
          "base_uri": "https://localhost:8080/"
        },
        "id": "1xDu8dmWFb4s",
        "outputId": "5a264b52-9ca5-446e-fb78-7e836999b869"
      },
      "execution_count": 35,
      "outputs": [
        {
          "output_type": "execute_result",
          "data": {
            "text/plain": [
              "KO     -1.397200\n",
              "MSFT   -0.261714\n",
              "NKE    -0.532881\n",
              "PFE    -1.037377\n",
              "SBUX   -0.281342\n",
              "XOM    -0.417121\n",
              "dtype: float64"
            ]
          },
          "metadata": {},
          "execution_count": 35
        }
      ]
    },
    {
      "cell_type": "markdown",
      "source": [
        "### Sharpe for TA portfolio"
      ],
      "metadata": {
        "id": "WJByyF6PFso8"
      }
    },
    {
      "cell_type": "code",
      "source": [
        "rf=0.03\n",
        "sharpe2=(exp_ret2-rf)/vol2\n",
        "sharpe2"
      ],
      "metadata": {
        "colab": {
          "base_uri": "https://localhost:8080/"
        },
        "id": "EvlguuQWFvqy",
        "outputId": "a5fd6386-2487-45ec-a459-80718339bb9e"
      },
      "execution_count": 36,
      "outputs": [
        {
          "output_type": "execute_result",
          "data": {
            "text/plain": [
              "AZN    -0.815485\n",
              "CCL    -0.133994\n",
              "MCD    -1.080553\n",
              "NVDA   -0.241259\n",
              "RIVN   -0.188835\n",
              "UA     -0.322475\n",
              "dtype: float64"
            ]
          },
          "metadata": {},
          "execution_count": 36
        }
      ]
    },
    {
      "cell_type": "markdown",
      "source": [
        "### Expected Returns function"
      ],
      "metadata": {
        "id": "fYbe9BTpF67K"
      }
    },
    {
      "cell_type": "code",
      "source": [
        "def expRet(ret,n=252,com=False):\n",
        "  \"\"\"\n",
        "  com: optional- determines wheter ExpRet are calculated as annualized sample mean or annualized compounded return\n",
        "  \"\"\"\n",
        "  if com:\n",
        "    return (1+ret).prod()**(n/len(ret))-1\n",
        "  else:\n",
        "    return ret.mean()*n"
      ],
      "metadata": {
        "id": "ruPgdk2hGDwp"
      },
      "execution_count": 37,
      "outputs": []
    },
    {
      "cell_type": "markdown",
      "source": [
        "### Expected Return function for NTA portfolio"
      ],
      "metadata": {
        "id": "825gqq87GonZ"
      }
    },
    {
      "cell_type": "code",
      "source": [
        "#Arithmetic mean\n",
        "er1=expRet(rets1,20)\n",
        "print(er1)\n",
        "print(\"*\"*50)\n",
        "#Geometric Mean\n",
        "print(expRet(rets1,20,True))"
      ],
      "metadata": {
        "colab": {
          "base_uri": "https://localhost:8080/"
        },
        "id": "C1WGQVJKHNs0",
        "outputId": "b1e4a19e-7bf6-4dfc-e755-33e745ffecef"
      },
      "execution_count": 40,
      "outputs": [
        {
          "output_type": "stream",
          "name": "stdout",
          "text": [
            "KO     -0.015488\n",
            "MSFT    0.111419\n",
            "NKE    -0.076319\n",
            "PFE    -0.087303\n",
            "SBUX   -0.014521\n",
            "XOM    -0.099498\n",
            "dtype: float64\n",
            "**************************************************\n",
            "KO     -0.015601\n",
            "MSFT    0.113088\n",
            "NKE    -0.075387\n",
            "PFE    -0.084254\n",
            "SBUX   -0.020250\n",
            "XOM    -0.097965\n",
            "dtype: float64\n"
          ]
        }
      ]
    },
    {
      "cell_type": "markdown",
      "source": [
        "### Expected Return function for TA portfolio"
      ],
      "metadata": {
        "id": "hrYBrVd3HsM6"
      }
    },
    {
      "cell_type": "code",
      "source": [
        "#Arithmetic Mean\n",
        "er2=expRet(rets2,20)\n",
        "print(er2)\n",
        "print(\"*\"*50)\n",
        "#Geometric Mean\n",
        "print(expRet(rets2,20,True))"
      ],
      "metadata": {
        "colab": {
          "base_uri": "https://localhost:8080/"
        },
        "id": "BmZC2KLkHtIJ",
        "outputId": "73167650-d121-41c1-991a-72b48c8e14c5"
      },
      "execution_count": 41,
      "outputs": [
        {
          "output_type": "stream",
          "name": "stdout",
          "text": [
            "AZN    -0.012631\n",
            "CCL     0.192596\n",
            "MCD     0.005670\n",
            "NVDA    0.123679\n",
            "RIVN    0.108833\n",
            "UA     -0.162944\n",
            "dtype: float64\n",
            "**************************************************\n",
            "AZN    -0.013219\n",
            "CCL     0.198475\n",
            "MCD     0.005328\n",
            "NVDA    0.126093\n",
            "RIVN    0.105754\n",
            "UA     -0.156635\n",
            "dtype: float64\n"
          ]
        }
      ]
    },
    {
      "cell_type": "markdown",
      "source": [
        "### Annualized Volatility function"
      ],
      "metadata": {
        "id": "15LVMHOOICY5"
      }
    },
    {
      "cell_type": "code",
      "source": [
        "def annualize_vol(ret,n=252):\n",
        "  return ret.std()*n*0.5"
      ],
      "metadata": {
        "id": "ek3zLYw4IGc4"
      },
      "execution_count": 42,
      "outputs": []
    }
  ]
}